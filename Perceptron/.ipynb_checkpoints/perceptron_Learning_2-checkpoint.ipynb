{
 "cells": [
  {
   "cell_type": "code",
   "execution_count": 1,
   "metadata": {},
   "outputs": [],
   "source": [
    "import numpy as np\n",
    "import matplotlib.pyplot as plt\n",
    "import pandas as pd "
   ]
  },
  {
   "cell_type": "markdown",
   "metadata": {},
   "source": [
    "# Training sample "
   ]
  },
  {
   "cell_type": "code",
   "execution_count": 10,
   "metadata": {},
   "outputs": [
    {
     "name": "stdout",
     "output_type": "stream",
     "text": [
      "8.343926742478423 5.259096766258075 1.0\n",
      "9.086579193242061 9.94831487565926 1.0\n",
      "8.716012234719917 4.060303896165305 1.0\n",
      "4.89145683748105 6.004023986456283 1.0\n",
      "4.42797534921656 4.02039792810694 1.0\n",
      "3.972424808025705 6.5149302418993535 1.0\n",
      "2.536464469052908 0.24847296535733254 1.0\n",
      "9.463097333247655 8.106651763685601 1.0\n",
      "6.263168880705532 1.533149061565665 1.0\n",
      "6.422525682979334 4.709193998716504 1.0\n",
      "8.759332879061477 0.5636221512747808 1.0\n",
      "7.4569786335593236 1.8034731497763923 1.0\n",
      "7.080708425887961 8.95370477184718 1.0\n",
      "4.9993008702671125 2.897714954579138 1.0\n",
      "5.614121677346904 2.3575757872361756 1.0\n",
      "5.22123822059794 2.4994121986515747 1.0\n",
      "9.821776453872374 8.22855684479763 1.0\n",
      "8.69582402487445 4.1652694290888395 1.0\n"
     ]
    }
   ],
   "source": [
    "x1 = np.array([])\n",
    "y1 = np.array([])\n",
    "x2 = np.array([])\n",
    "y2 = np.array([])\n",
    "posx1 = np.array([])\n",
    "posx2 = np.array([])\n",
    "pos = np.array([])\n",
    "x = np.array([])\n",
    "y = np.array([])\n",
    "for i in range(0,20):\n",
    "    xtemp = np.random.uniform(0,10)\n",
    "    ytemp = np.random.uniform(0,10)\n",
    "    postemp = np.sign((2*xtemp)-ytemp)\n",
    "    \n",
    "    x = np.append(x,xtemp)\n",
    "    y = np.append(y,ytemp)\n",
    "    pos = np.append(pos,postemp)\n",
    "    \n",
    "    if postemp == 1.0: \n",
    "        print(xtemp,ytemp,postemp)\n",
    "        x1 = np.append(x1,xtemp)\n",
    "        y1 = np.append(y1,ytemp)\n",
    "        posx1 = np.append(posx1,postemp)\n",
    "    else: \n",
    "        x2 = np.append(x2,xtemp)\n",
    "        y2 = np.append(y2,ytemp)\n",
    "        posx2 = np.append(posx2,postemp)"
   ]
  },
  {
   "cell_type": "code",
   "execution_count": 3,
   "metadata": {},
   "outputs": [
    {
     "data": {
      "image/png": "[encoded data removed]",
      "text/plain": [
       "<Figure size 432x288 with 1 Axes>"
      ]
     },
     "metadata": {},
     "output_type": "display_data"
    }
   ],
   "source": [
    "plt.scatter(x,y)\n",
    "plt.xlim(0,10)\n",
    "plt.ylim(0,10)\n",
    "plt.show()"
   ]
  },
  {
   "cell_type": "code",
   "execution_count": 4,
   "metadata": {},
   "outputs": [
    {
     "data": {
      "image/png": "[encoded data removed]",
      "text/plain": [
       "<Figure size 432x288 with 1 Axes>"
      ]
     },
     "metadata": {},
     "output_type": "display_data"
    }
   ],
   "source": [
    "plt.scatter(x1,y1)\n",
    "plt.scatter(x2,y2)\n",
    "plt.xlim(0,10)\n",
    "plt.ylim(0,10)\n",
    "plt.show()"
   ]
  },
  {
   "cell_type": "markdown",
   "metadata": {},
   "source": [
    "# Export training sample to cvf file  "
   ]
  },
  {
   "cell_type": "code",
   "execution_count": 5,
   "metadata": {},
   "outputs": [],
   "source": [
    "df = pd.DataFrame({\"x\" : x, \"y\" : y, \"position\" : pos})\n",
    "df.to_csv(\"C:/Users/Alfredo/Desktop/test.csv\",index=None)"
   ]
  },
  {
   "cell_type": "markdown",
   "metadata": {},
   "source": [
    "# Perceptron function"
   ]
  },
  {
   "cell_type": "code",
   "execution_count": 6,
   "metadata": {},
   "outputs": [],
   "source": [
    "def perceptron(X,Y,w1,w2): \n",
    "    out = np.sign(w1*X+w2*Y+1.0)\n",
    "    return out"
   ]
  },
  {
   "cell_type": "markdown",
   "metadata": {},
   "source": [
    "# Training process"
   ]
  },
  {
   "cell_type": "code",
   "execution_count": 7,
   "metadata": {},
   "outputs": [],
   "source": [
    "def Training(X,Y,position):\n",
    "    learningrate = 0.01 \n",
    "    w1 = np.random.uniform(-1,1)\n",
    "    w2 = np.random.uniform(-1,1)\n",
    "    error=1000\n",
    "#    print(\"pesos inicial w1\",w1)\n",
    "#    print(\"pesos final w2\",w2)\n",
    "#    print(\"posicion conocida\",position)\n",
    "    while error!=0: \n",
    "        output = perceptron(X,Y,w1,w2)\n",
    "#        print(\"salida perceptron\",output)\n",
    "        error = position - output  \n",
    "#        print(\"error\",error)\n",
    "        w1 = w1 + learningrate*error*X\n",
    "        w2 = w2 + learningrate*error*Y \n",
    "    print(\"posicion y pesos entrenados\",X,Y,w1,w2)\n",
    "#    print(\"peso actualizado w2\",w2)\n",
    "    return output \n",
    "\n",
    "\n",
    "    "
   ]
  },
  {
   "cell_type": "code",
   "execution_count": 8,
   "metadata": {},
   "outputs": [
    {
     "name": "stdout",
     "output_type": "stream",
     "text": [
      "posicion y pesos entrenados 1.786673592624588 6.1889114925333715 -0.871136447681983 -0.7001493295052952\n",
      "posicion y pesos entrenados 9.23166192829305 7.712638450703919 -0.1119919793870805 0.009273544916613696\n",
      "posicion y pesos entrenados 0.6541898114283828 2.8881136701097554 -0.16821898919571796 -0.3331111375987622\n",
      "posicion y pesos entrenados 9.15864056885756 0.18506830104487393 0.1781883198126657 -0.8181750465736204\n",
      "posicion y pesos entrenados 5.410729895319953 3.8665578859928784 -0.2618543692427928 0.24945952218446468\n",
      "posicion y pesos entrenados 5.056412567047014 0.7578251744890985 0.20948053219230767 0.41276741737371325\n",
      "posicion y pesos entrenados 6.425746187765165 6.304960753423837 -0.42416331432914794 0.39315961639946817\n",
      "posicion y pesos entrenados 3.651719613719542 6.371479556019222 -0.3670262366208711 0.2213238110310185\n",
      "posicion y pesos entrenados 0.039690691788170085 7.496474904784204 -0.7598265182653909 -0.19103365951840784\n",
      "posicion y pesos entrenados 8.63069912069729 3.952003331580396 0.29659129584921134 -0.5780300003790554\n",
      "posicion y pesos entrenados 9.582314131701647 7.1459528660159535 -0.2016952358729991 0.8738735603238739\n",
      "posicion y pesos entrenados 5.519098291143051 7.871819989185416 1.1089640093411084 -0.7757627134520115\n",
      "posicion y pesos entrenados 0.047009237901478595 3.3674543975413274 -0.4214229014578692 -0.30944793318295155\n",
      "posicion y pesos entrenados 3.4099645781242605 4.429770953066462 -0.5749395861503339 0.3063809822390807\n",
      "posicion y pesos entrenados 3.4292500312436958 8.593395726677743 0.2456247536634002 -0.9675403588921079\n",
      "posicion y pesos entrenados 3.8489296976955343 2.4780707862390248 -0.19668002803813492 -0.08399852155232153\n",
      "posicion y pesos entrenados 4.069617495417379 8.409511272787933 -0.5521356139930329 -0.11672230212659951\n",
      "posicion y pesos entrenados 0.9912518883350829 4.926572879450191 0.5566489328712713 -0.3976177738068561\n",
      "posicion y pesos entrenados 7.547159447930402 2.7566225017861887 0.16670281410838672 -0.5099119835976154\n",
      "posicion y pesos entrenados 7.132044476384407 3.770635106982798 -0.11447708467922971 0.03912282478559513\n"
     ]
    }
   ],
   "source": [
    "for i in range(0,20):\n",
    "    Training(x[i],y[i],pos[i])"
   ]
  },
  {
   "cell_type": "markdown",
   "metadata": {},
   "source": [
    "#  Prediccion"
   ]
  },
  {
   "cell_type": "code",
   "execution_count": 9,
   "metadata": {},
   "outputs": [],
   "source": [
    "#prediccion = perceptron()"
   ]
  }
 ],
 "metadata": {
  "kernelspec": {
   "display_name": "Python 3",
   "language": "python",
   "name": "python3"
  },
  "language_info": {
   "codemirror_mode": {
    "name": "ipython",
    "version": 3
   },
   "file_extension": ".py",
   "mimetype": "text/x-python",
   "name": "python",
   "nbconvert_exporter": "python",
   "pygments_lexer": "ipython3",
   "version": "3.7.4"
  }
 },
 "nbformat": 4,
 "nbformat_minor": 2
}
