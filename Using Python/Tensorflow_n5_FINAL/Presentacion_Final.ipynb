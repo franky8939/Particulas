{
 "cells": [
  {
   "cell_type": "markdown",
   "metadata": {
    "collapsed": true
   },
   "source": [
    "**PAQUETERIAS NECESARIAS**"
   ]
  },
  {
   "cell_type": "code",
   "execution_count": 1,
   "metadata": {},
   "outputs": [],
   "source": [
    "## INCLUYE TODOS LOS PAQUETES A USAR\n",
    "import tensorflow as tf\n",
    "import random\n",
    "from tensorflow import keras\n",
    " # Bibliotecas de ayuda\n",
    "import numpy as np\n",
    "import matplotlib.pyplot as plt\n",
    "import pandas as pd\n",
    "from scipy.signal import gaussian\n",
    " # Biblioteca para datos de entrenamiento\n",
    "from sklearn.model_selection import train_test_split\n",
    "import h5py as h # manipular extensiones\n",
    "# FUNCIONES DEFINIDAS PARA USO NECESARIO\n",
    "import timeit"
   ]
  },
  {
   "cell_type": "markdown",
   "metadata": {},
   "source": [
    "**ENTRADA DE LA INFORMACION, ORDENAMIENTO DE LA INFORMACION A USAR**"
   ]
  },
  {
   "cell_type": "code",
   "execution_count": 2,
   "metadata": {},
   "outputs": [],
   "source": [
    " # ENTRAR LA INFORMACION DESDE UN ARCHIVO EXTERNO\n",
    "FILE  = h.File(\"DATOS/TODOS.h5\", 'r')\n",
    "INPUT = np.vstack([FILE[\"qcd/images\"][:], FILE[\"wprime/images\"][:]]); INPUT=INPUT/np.max(INPUT) # SE NORMALIZA\n",
    "LABEL = np.hstack([FILE[\"qcd/labels\"][:], FILE[\"wprime/labels\"][:]])\n",
    "OUTPUT_LINEAL = np.ones((len(LABEL), 2));\n",
    "OUTPUT_LINEAL[:,0] = LABEL < 1    ;     OUTPUT_LINEAL[:,1] = LABEL > 0\n",
    " # REACONDICIONAR LA INFORMACION INPUT EN UNA MATRIX PARA SU RAPIDO ACCESO\n",
    "INPUT_LINEAL = np.reshape(INPUT, [len(INPUT),-1]) # LA INFORMACION SE LINEALIZA Y SE LOCALIZA EN LAS FILAS\n",
    " # SEPARAR LA INFO PARA ENTRENAR DE LA QUE SERA USADA PARA EL TEST DE CORRESPONDENCIA\n",
    "INPUT_LINEAL, INPUT_LINEAL_TEST, OUTPUT_LINEAL, OUTPUT_LINEAL_TEST = train_test_split( \n",
    "    INPUT_LINEAL, OUTPUT_LINEAL, test_size=0.2, shuffle = True);"
   ]
  },
  {
   "cell_type": "markdown",
   "metadata": {},
   "source": [
    "**FUNCIONES INICIALES Y NECESARIAS PARA EL ENTRENAMIENTO**"
   ]
  },
  {
   "cell_type": "code",
   "execution_count": 3,
   "metadata": {},
   "outputs": [],
   "source": [
    "## CLASE DE LOS VALORES A TENER EN CUENTA\n",
    "config = tf.compat.v1.placeholder(\"float\")\n",
    "config.v_input= len(INPUT_LINEAL[0,:]); config.v_output = len(OUTPUT_LINEAL[0,:]);#, exp = 1 , cross_entropy = 1, n_iterations = 3000, dropout = 0.5):\n",
    "config.n_capas  = 2;                    config.exp      = 1;\n",
    "#self.matrix_neuronas = {} # SE RELLENARA EN EL FUTURO\n",
    "config.learning_rate = 1e-1; config.cross_entropy = 1;    config.n_iterations  = 3000;\n",
    "config.dropout       = 0.5;\n",
    "config.n_step_visual_process = 10;\n",
    "config.acc_corte = .8;\n",
    "## NO DEBEN VOLVERSE A DEFINIR BAJO NINGUN CONCEPTO\n",
    "config.X = tf.compat.v1.placeholder(\"float\", shape = [None,len(INPUT_LINEAL[0,:])] ) #, name= \"input_size2\"); # Estructura de la entrada\n",
    "config.Y = tf.compat.v1.placeholder(\"float\", shape = [None,len(OUTPUT_LINEAL[0,:])] ) #, name= \"output_size2\") #Estructura de la salida\n",
    "    "
   ]
  },
  {
   "cell_type": "code",
   "execution_count": 4,
   "metadata": {},
   "outputs": [],
   "source": [
    "## DEFINICION DE LOS MODOS DE ELECCION DE CAPAS OCULTAS Y NUMEROS DE NEURONAS\n",
    "def neuronas( config ): #v_input, v_output, n_capas = 2, exp = 1,  modo = 'poly' ):\n",
    "    #config = Dd()\n",
    "    x = np.ones(config.n_capas + 2)\n",
    "    #print(x)\n",
    "    if  config.exp >= 1: #modo == 'poly':\n",
    "        for i in range(config.n_capas + 2):\n",
    "            x[len(x)-i-1] = round(( config.v_input - config.v_output )*pow(i/(config.n_capas + 1 ), config.exp) + config.v_output)\n",
    "            #print(x[i])\n",
    "            #print(i)\n",
    "    elif config.exp < 1:\n",
    "        for i in range(config.n_capas + 2):\n",
    "            x[len(x)-i-1] = round(( config.v_input - config.v_output )*pow(i/( config.n_capas + 1 ), -1/config.exp) + config.v_output)\n",
    "            #print(x[i])\n",
    "            #print(i)\n",
    "    config.matrix_neuronas = np.int64(x)\n",
    "    return config"
   ]
  },
  {
   "cell_type": "code",
   "execution_count": 5,
   "metadata": {},
   "outputs": [],
   "source": [
    "## ORGANIZACION DE LA ESTRUCTURA INTERNA DE ENTRENAMIENTO ##\n",
    "def estructura( INPUT_LINEAL, OUTPUT_LINEAL , config):\n",
    "    config = neuronas( config )\n",
    "    #proceso iteractivo dinamico \n",
    "    for i in range(len(config.matrix_neuronas)-1):\n",
    "\n",
    "        weights = tf.Variable( tf.truncated_normal([config.matrix_neuronas[i], config.matrix_neuronas[i+1]], stddev=0.1) , \n",
    "                              name = f\"weights-w{i}\")\n",
    "        biases = tf.Variable(tf.constant(0.1, shape=[config.matrix_neuronas[i+1]]) , name=f\"biases_b{i}\" )\n",
    "        \n",
    "        if  i == 0: # CONDICION INICIAL\n",
    "            layer = tf.add(tf.matmul( config.X, weights), biases , name=f\"layer_l{i}\" )\n",
    "        else: # VALORES INTERNMEDIOS\n",
    "            layer = tf.add(tf.matmul(    layer, weights), biases , name=f\"layer_l{i}\" )\n",
    "    # PARAMETROS FINALES PARA CARACTERIZACION \n",
    "    config.cross_entropy = tf.reduce_mean(tf.nn.softmax_cross_entropy_with_logits_v2(labels = config.Y, logits=layer) , \n",
    "                                          name= \"Definition_of_cross_entropy\")\n",
    "    config.train_step    = tf.compat.v1.train.AdamOptimizer( config.learning_rate ).minimize( config.cross_entropy , \n",
    "                                          name= \"Definition_of_train_step\")\n",
    "    config.correct_pred  = tf.equal(tf.argmax(layer, 1), tf.argmax( config.Y , 1) , \n",
    "                                          name= \"Definition_of_correct_pred\")\n",
    "    config.accuracy      = tf.reduce_mean(tf.cast( config.correct_pred  , tf.float32) ,\n",
    "                                          name= \"Definition_of_accuracy\")\n",
    "    return config\n",
    "\n",
    "## INICIO DE LA ITERACION\n",
    "def inicio( INPUT_LINEAL, INPUT_LINEAL_TEST, OUTPUT_LINEAL , OUTPUT_LINEAL_TEST , config):\n",
    "    \n",
    "    init = tf.compat.v1.global_variables_initializer()\n",
    "    config.cost_summary = tf.compat.v1.summary.scalar(\"Cost\", config.cross_entropy)\n",
    "    config.acc_summary = tf.compat.v1.summary.scalar(\"Accuracy\", config.accuracy)\n",
    "    config.all_summary = tf.compat.v1.summary.merge_all()#'''\n",
    "    #saver=tf.train.Saver() #SALVAR LA SECCION PARA PODERLA UTILIZAR LUEGO\n",
    "    with tf.Session() as sess:\n",
    "        writer = tf.summary.FileWriter(\"Tensorboard\", sess.graph)\n",
    "        #print(sess)\n",
    "        sess.run(init)\n",
    "        #saver.save(sess, 'modelo')\n",
    "        toc_general = 0  \n",
    "        for i in range(config.n_iterations):\n",
    "            tic = timeit.default_timer()\n",
    "            sess.run(config.train_step, feed_dict={ config.X: INPUT_LINEAL, config.Y:OUTPUT_LINEAL}) # CORRIDA\n",
    "\n",
    "            config.summary_results, config.loss, config.acc = sess.run([config.all_summary, config.cross_entropy, config.accuracy], \n",
    "                                                  feed_dict={config.X: INPUT_LINEAL, config.Y: OUTPUT_LINEAL})\n",
    "            writer.add_summary(config.summary_results, i)\n",
    "            \n",
    "            toc = timeit.default_timer() ;   toc_general +=  toc - tic ;\n",
    "            if (i)%config.n_step_visual_process == 0:\n",
    "                print(\"Iteration\", str(i), \"\\t| Loss =\", str( config.loss ), \"\\t| Accuracy =\", str( config.acc )\n",
    "                     , \"\\t| Time =\", str( toc - tic ))\n",
    "            \n",
    "            if config.acc > config.acc_corte:\n",
    "                print(\"Iteration\", str(i), \"\\t| Loss =\", str( config.loss ), \"\\t| Accuracy =\", str( config.acc ))\n",
    "                break\n",
    "        config.test_accuracy = sess.run(config.accuracy, feed_dict={config.X: INPUT_LINEAL_TEST, config.Y: OUTPUT_LINEAL_TEST})\n",
    "        config.time_ite_mean = toc_general/i ; \n",
    "        print(\"\\n Accuracy on test set:\", config.test_accuracy , \"\\t Mean time of Iterations:\", str(config.time_ite_mean) )\n",
    "\n",
    "        #a, b = sess.run([tf.argmax(layer, 1),tf.argmax(Y,1)], feed_dict={X: INPUT_LINEAL, Y: OUTPUT_LINEAL}) \n",
    "\n",
    "        #for ea, eb in zip(a, b):\n",
    "        #    print(ea,eb)\n",
    "    return config\n"
   ]
  },
  {
   "cell_type": "markdown",
   "metadata": {},
   "source": [
    "**CARACTERIZACION DE NUESTRA MUESTRA Y NUESTRO PROCESO DE ENTRENAMIENTO**"
   ]
  },
  {
   "cell_type": "code",
   "execution_count": 6,
   "metadata": {},
   "outputs": [
    {
     "name": "stdout",
     "output_type": "stream",
     "text": [
      "Iteration 0 \t| Loss = 35.835873 \t| Accuracy = 0.5974088 \t| Time = 0.5117170000000009\n",
      "Iteration 9 \t| Loss = 1.916065 \t| Accuracy = 0.83338094\n",
      "\n",
      " Accuracy on test set: 0.81142855 \t Mean time of Iterations: 0.4000330333333333\n"
     ]
    }
   ],
   "source": [
    "## CARACTERIZAR COMO CAMBIA EL \n",
    "\n",
    "#config = neuronas( config )\n",
    "config.learning_rate = .1 ; \n",
    "config = estructura( INPUT_LINEAL, OUTPUT_LINEAL , config )\n",
    "config = inicio( INPUT_LINEAL, INPUT_LINEAL_TEST, OUTPUT_LINEAL , OUTPUT_LINEAL_TEST , config )"
   ]
  },
  {
   "cell_type": "code",
   "execution_count": null,
   "metadata": {},
   "outputs": [],
   "source": []
  }
 ],
 "metadata": {
  "kernelspec": {
   "display_name": "Python 3",
   "language": "python",
   "name": "python3"
  },
  "language_info": {
   "codemirror_mode": {
    "name": "ipython",
    "version": 3
   },
   "file_extension": ".py",
   "mimetype": "text/x-python",
   "name": "python",
   "nbconvert_exporter": "python",
   "pygments_lexer": "ipython3",
   "version": "3.7.4"
  }
 },
 "nbformat": 4,
 "nbformat_minor": 1
}
